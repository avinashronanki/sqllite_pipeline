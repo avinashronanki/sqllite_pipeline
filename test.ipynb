{
 "cells": [
  {
   "cell_type": "code",
   "execution_count": 1,
   "metadata": {},
   "outputs": [
    {
     "data": {
      "text/plain": [
       "<sqlite3.Cursor at 0x7fcc0ca9aea0>"
      ]
     },
     "execution_count": 1,
     "metadata": {},
     "output_type": "execute_result"
    }
   ],
   "source": [
    "import sqlite3\n",
    "\n",
    "\n",
    "\n",
    "# Databases\n",
    "\n",
    "# Create a database or connect to one\n",
    "conn = sqlite3.connect('address_book.db')\n",
    "\n",
    "# Create cursor\n",
    "c = conn.cursor()\n",
    "\n",
    "# Create table\n",
    "\n",
    "c.execute(\"\"\"CREATE TABLE addresses (\n",
    "\t\tfirst_name text,\n",
    "\t\tlast_name text,\n",
    "\t\taddress text,\n",
    "\t\tcity text,\n",
    "\t\tstate text,\n",
    "\t\tzipcode integer\n",
    "\t\t)\"\"\")"
   ]
  },
  {
   "cell_type": "code",
   "execution_count": 4,
   "metadata": {},
   "outputs": [
    {
     "data": {
      "text/plain": [
       "<sqlite3.Cursor at 0x7fcc0ca9aea0>"
      ]
     },
     "execution_count": 4,
     "metadata": {},
     "output_type": "execute_result"
    }
   ],
   "source": [
    "c.execute(\"\"\" insert into addresses values ('john','john','john','john','john','1234')\n",
    "\t\t\"\"\"\n",
    "\t\t)"
   ]
  },
  {
   "cell_type": "code",
   "execution_count": 5,
   "metadata": {},
   "outputs": [
    {
     "data": {
      "text/plain": [
       "<sqlite3.Cursor at 0x7fcc0ca9aea0>"
      ]
     },
     "execution_count": 5,
     "metadata": {},
     "output_type": "execute_result"
    }
   ],
   "source": [
    "c.execute('select * from addresses')"
   ]
  },
  {
   "cell_type": "code",
   "execution_count": null,
   "metadata": {},
   "outputs": [],
   "source": []
  },
  {
   "cell_type": "markdown",
   "metadata": {},
   "source": [
    "## NEW"
   ]
  },
  {
   "cell_type": "code",
   "execution_count": null,
   "metadata": {},
   "outputs": [],
   "source": [
    "import sqlite3\n",
    "\n",
    "# Connecting to sqlite\n",
    "# connection object\n",
    "connection_obj = sqlite3.connect('db/geek.db')\n",
    "\n",
    "# cursor object\n",
    "cursor_obj = connection_obj.cursor()\n",
    "\n",
    "connection_obj.execute(\"\"\"CREATE TABLE GEEK(\n",
    "Email varchar(255),\n",
    "Name varchar(50),\n",
    "Score int\n",
    ");\"\"\")\n",
    "\n",
    "connection_obj.execute(\n",
    "\t\"\"\"INSERT INTO GEEK (Email,Name,Score) VALUES (\"geekk1@gmail.com\",\"Geek1\",25)\"\"\")\n",
    "connection_obj.execute(\n",
    "\t\"\"\"INSERT INTO GEEK (Email,Name,Score) VALUES (\"geekk2@gmail.com\",\"Geek2\",15)\"\"\")\n",
    "connection_obj.execute(\n",
    "\t\"\"\"INSERT INTO GEEK (Email,Name,Score) VALUES (\"geekk3@gmail.com\",\"Geek3\",36)\"\"\")\n",
    "connection_obj.execute(\n",
    "\t\"\"\"INSERT INTO GEEK (Email,Name,Score) VALUES (\"geekk4@gmail.com\",\"Geek4\",27)\"\"\")\n",
    "connection_obj.execute(\n",
    "\t\"\"\"INSERT INTO GEEK (Email,Name,Score) VALUES (\"geekk5@gmail.com\",\"Geek5\",40)\"\"\")\n",
    "connection_obj.execute(\n",
    "\t\"\"\"INSERT INTO GEEK (Email,Name,Score) VALUES (\"geekk6@gmail.com\",\"Geek6\",36)\"\"\")\n",
    "connection_obj.execute(\n",
    "\t\"\"\"INSERT INTO GEEK (Email,Name,Score) VALUES (\"geekk7@gmail.com\",\"Geek7\",27)\"\"\")\n",
    "\n",
    "connection_obj.commit()\n",
    "\n",
    "# Close the connection\n",
    "connection_obj.close()\n"
   ]
  },
  {
   "cell_type": "code",
   "execution_count": null,
   "metadata": {},
   "outputs": [],
   "source": [
    "import sqlite3\n",
    "\n",
    "# Connecting to sqlite\n",
    "# connection object\n",
    "connection_obj = sqlite3.connect('db/geek.db')\n",
    "\n",
    "# cursor object\n",
    "cursor_obj = connection_obj.cursor()\n",
    "\n",
    "# to select all column we will use\n",
    "statement = '''SELECT * FROM GEEK'''\n",
    "\n",
    "cursor_obj.execute(statement)\n",
    "\n",
    "print(\"All the data\")\n",
    "output = cursor_obj.fetchall()\n",
    "for row in output:\n",
    "    print(row)\n",
    "\n",
    "connection_obj.commit()\n",
    "\n",
    "# Close the connection\n",
    "connection_obj.close()\n",
    "\n"
   ]
  },
  {
   "cell_type": "code",
   "execution_count": null,
   "metadata": {},
   "outputs": [],
   "source": [
    "\n",
    "import sqlite3\n",
    "\n",
    "# Connecting to sqlite\n",
    "# connection object\n",
    "connection_obj = sqlite3.connect('db/geek.db')\n",
    "\n",
    "# cursor object\n",
    "cursor_obj = connection_obj.cursor()\n",
    "connection_obj.execute(\n",
    "\t\"\"\"INSERT INTO GEEK (Email,Name,Score) VALUES (\"geekk6@gmail.com\",\"Geek6\",36)\"\"\")\n",
    "connection_obj.execute(\n",
    "\t\"\"\"INSERT INTO GEEK (Email,Name,Score) VALUES (\"geekk7@gmail.com\",\"Geek7\",27)\"\"\")"
   ]
  },
  {
   "cell_type": "code",
   "execution_count": null,
   "metadata": {},
   "outputs": [],
   "source": [
    "\n",
    "import sqlite3\n",
    "\n",
    "# Connecting to sqlite\n",
    "# connection object\n",
    "connection_obj = sqlite3.connect('db/geek.db', timeout=10)\n",
    "\n",
    "# cursor object\n",
    "cursor_obj = connection_obj.cursor()\n",
    "\n",
    "connection_obj.execute(\n",
    "\t\"\"\"INSERT INTO GEEK (Email,Name,Score) VALUES (\"geekk145@gmail.com\",\"Geek145\",2545)\"\"\")"
   ]
  },
  {
   "cell_type": "code",
   "execution_count": null,
   "metadata": {},
   "outputs": [],
   "source": [
    "while True:\n",
    "    connection = sqlite3.connect('geek.db', timeout=1)\n",
    "    cursor = connection.cursor()\n",
    "    try:\n",
    "        cursor.execute(\"SELECT * FROM GEEK;\")\n",
    "        result = cursor.fetchall()\n",
    "    except sqlite3.OperationalError:\n",
    "        print(\"database locked\")\n",
    "    num_users = len(result)"
   ]
  },
  {
   "cell_type": "code",
   "execution_count": null,
   "metadata": {},
   "outputs": [],
   "source": []
  }
 ],
 "metadata": {
  "interpreter": {
   "hash": "3fd038a6b5f958b0d0220022fcec3f0a78838824112c97406e8365a763dc5ead"
  },
  "kernelspec": {
   "display_name": "Python 3",
   "language": "python",
   "name": "python3"
  },
  "language_info": {
   "codemirror_mode": {
    "name": "ipython",
    "version": 3
   },
   "file_extension": ".py",
   "mimetype": "text/x-python",
   "name": "python",
   "nbconvert_exporter": "python",
   "pygments_lexer": "ipython3",
   "version": "3.8.8"
  }
 },
 "nbformat": 4,
 "nbformat_minor": 2
}
